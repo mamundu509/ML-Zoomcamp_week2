{
 "cells": [
  {
   "cell_type": "code",
   "execution_count": 221,
   "id": "88b2064c",
   "metadata": {},
   "outputs": [],
   "source": [
    "import pandas as pd\n",
    "import numpy as np\n",
    "import matplotlib.pyplot as plt\n",
    "from sklearn.model_selection import train_test_split"
   ]
  },
  {
   "cell_type": "markdown",
   "id": "f89b8d8c",
   "metadata": {},
   "source": [
    "####  EDA \n",
    "* Load the data.\n",
    "* Look at the median_house_value variable. Does it have a long tail?"
   ]
  },
  {
   "cell_type": "code",
   "execution_count": 222,
   "id": "688ea8df",
   "metadata": {},
   "outputs": [
    {
     "data": {
      "text/html": [
       "<div>\n",
       "<style scoped>\n",
       "    .dataframe tbody tr th:only-of-type {\n",
       "        vertical-align: middle;\n",
       "    }\n",
       "\n",
       "    .dataframe tbody tr th {\n",
       "        vertical-align: top;\n",
       "    }\n",
       "\n",
       "    .dataframe thead th {\n",
       "        text-align: right;\n",
       "    }\n",
       "</style>\n",
       "<table border=\"1\" class=\"dataframe\">\n",
       "  <thead>\n",
       "    <tr style=\"text-align: right;\">\n",
       "      <th></th>\n",
       "      <th>longitude</th>\n",
       "      <th>latitude</th>\n",
       "      <th>housing_median_age</th>\n",
       "      <th>total_rooms</th>\n",
       "      <th>total_bedrooms</th>\n",
       "      <th>population</th>\n",
       "      <th>households</th>\n",
       "      <th>median_income</th>\n",
       "      <th>median_house_value</th>\n",
       "      <th>ocean_proximity</th>\n",
       "    </tr>\n",
       "  </thead>\n",
       "  <tbody>\n",
       "    <tr>\n",
       "      <th>0</th>\n",
       "      <td>-122.23</td>\n",
       "      <td>37.88</td>\n",
       "      <td>41.0</td>\n",
       "      <td>880.0</td>\n",
       "      <td>129.0</td>\n",
       "      <td>322.0</td>\n",
       "      <td>126.0</td>\n",
       "      <td>8.3252</td>\n",
       "      <td>452600.0</td>\n",
       "      <td>NEAR BAY</td>\n",
       "    </tr>\n",
       "    <tr>\n",
       "      <th>1</th>\n",
       "      <td>-122.22</td>\n",
       "      <td>37.86</td>\n",
       "      <td>21.0</td>\n",
       "      <td>7099.0</td>\n",
       "      <td>1106.0</td>\n",
       "      <td>2401.0</td>\n",
       "      <td>1138.0</td>\n",
       "      <td>8.3014</td>\n",
       "      <td>358500.0</td>\n",
       "      <td>NEAR BAY</td>\n",
       "    </tr>\n",
       "    <tr>\n",
       "      <th>2</th>\n",
       "      <td>-122.24</td>\n",
       "      <td>37.85</td>\n",
       "      <td>52.0</td>\n",
       "      <td>1467.0</td>\n",
       "      <td>190.0</td>\n",
       "      <td>496.0</td>\n",
       "      <td>177.0</td>\n",
       "      <td>7.2574</td>\n",
       "      <td>352100.0</td>\n",
       "      <td>NEAR BAY</td>\n",
       "    </tr>\n",
       "    <tr>\n",
       "      <th>3</th>\n",
       "      <td>-122.25</td>\n",
       "      <td>37.85</td>\n",
       "      <td>52.0</td>\n",
       "      <td>1274.0</td>\n",
       "      <td>235.0</td>\n",
       "      <td>558.0</td>\n",
       "      <td>219.0</td>\n",
       "      <td>5.6431</td>\n",
       "      <td>341300.0</td>\n",
       "      <td>NEAR BAY</td>\n",
       "    </tr>\n",
       "    <tr>\n",
       "      <th>4</th>\n",
       "      <td>-122.25</td>\n",
       "      <td>37.85</td>\n",
       "      <td>52.0</td>\n",
       "      <td>1627.0</td>\n",
       "      <td>280.0</td>\n",
       "      <td>565.0</td>\n",
       "      <td>259.0</td>\n",
       "      <td>3.8462</td>\n",
       "      <td>342200.0</td>\n",
       "      <td>NEAR BAY</td>\n",
       "    </tr>\n",
       "  </tbody>\n",
       "</table>\n",
       "</div>"
      ],
      "text/plain": [
       "   longitude  latitude  housing_median_age  total_rooms  total_bedrooms  \\\n",
       "0    -122.23     37.88                41.0        880.0           129.0   \n",
       "1    -122.22     37.86                21.0       7099.0          1106.0   \n",
       "2    -122.24     37.85                52.0       1467.0           190.0   \n",
       "3    -122.25     37.85                52.0       1274.0           235.0   \n",
       "4    -122.25     37.85                52.0       1627.0           280.0   \n",
       "\n",
       "   population  households  median_income  median_house_value ocean_proximity  \n",
       "0       322.0       126.0         8.3252            452600.0        NEAR BAY  \n",
       "1      2401.0      1138.0         8.3014            358500.0        NEAR BAY  \n",
       "2       496.0       177.0         7.2574            352100.0        NEAR BAY  \n",
       "3       558.0       219.0         5.6431            341300.0        NEAR BAY  \n",
       "4       565.0       259.0         3.8462            342200.0        NEAR BAY  "
      ]
     },
     "execution_count": 222,
     "metadata": {},
     "output_type": "execute_result"
    }
   ],
   "source": [
    "data=pd.read_csv(\"C:/Users/mamun/OneDrive/Desktop/Data_science_project/ML Zoomcamp/housing.csv\")\n",
    "df=data.copy()\n",
    "df.head()"
   ]
  },
  {
   "cell_type": "code",
   "execution_count": 223,
   "id": "9bafed0d",
   "metadata": {},
   "outputs": [
    {
     "data": {
      "image/png": "[encoded data removed]",
      "text/plain": [
       "<Figure size 640x480 with 1 Axes>"
      ]
     },
     "metadata": {},
     "output_type": "display_data"
    }
   ],
   "source": [
    "import matplotlib.pyplot as plt\n",
    "\n",
    "# Plot a histogram of the median_house_value variable\n",
    "plt.hist(data[\"median_house_value\"], bins=50, edgecolor='k')\n",
    "plt.xlabel(\"Median House Value\")\n",
    "plt.ylabel(\"Frequency\")\n",
    "plt.title(\"Distribution of Median House Value\")\n",
    "plt.show()"
   ]
  },
  {
   "cell_type": "markdown",
   "id": "e28704b0",
   "metadata": {},
   "source": [
    "The median house value displays a long tail on its distribution."
   ]
  },
  {
   "cell_type": "markdown",
   "id": "1c7aee8c",
   "metadata": {},
   "source": [
    "### Preparing the dataset\n",
    "For this homework, we only want to use a subset of data.\n",
    "\n",
    "First, keep only the records where ocean_proximity is either '<1H OCEAN' or 'INLAND'\n",
    "\n",
    "Next, use only the following columns:\n",
    "\n",
    "'latitude',\n",
    "'longitude',\n",
    "'housing_median_age',\n",
    "'total_rooms',\n",
    "'total_bedrooms',\n",
    "'population',\n",
    "'households',\n",
    "'median_income',\n",
    "'median_house_value'"
   ]
  },
  {
   "cell_type": "code",
   "execution_count": 224,
   "id": "19516354",
   "metadata": {},
   "outputs": [],
   "source": [
    "# Filter records where ocean_proximity is either '<1H OCEAN' or 'INLAND'\n",
    "filtered_df = df[df['ocean_proximity'].isin(['<1H OCEAN', 'INLAND'])]\n",
    "\n",
    "# Select the desired columns\n",
    "selected_columns = [\n",
    "    'latitude',\n",
    "    'longitude',\n",
    "    'housing_median_age',\n",
    "    'total_rooms',\n",
    "    'total_bedrooms',\n",
    "    'population',\n",
    "    'households',\n",
    "    'median_income',\n",
    "    'median_house_value'\n",
    "]\n",
    "\n",
    "df = filtered_df[selected_columns]"
   ]
  },
  {
   "cell_type": "markdown",
   "id": "a959f813",
   "metadata": {},
   "source": [
    "### Question 1\n",
    "#### There's one feature with missing values. What is it?"
   ]
  },
  {
   "cell_type": "code",
   "execution_count": 225,
   "id": "e8251e20",
   "metadata": {},
   "outputs": [
    {
     "name": "stdout",
     "output_type": "stream",
     "text": [
      "total_bedrooms    157\n",
      "dtype: int64\n"
     ]
    }
   ],
   "source": [
    "# Check for missing values\n",
    "missing_values=df_filtered.isna().sum()\n",
    "# Print the columns with missing values\n",
    "print(missing_values[missing_values > 0])"
   ]
  },
  {
   "cell_type": "markdown",
   "id": "a424ac26",
   "metadata": {},
   "source": [
    "### Question 2\n",
    "#### What's the median (50% percentile) for variable 'population'?"
   ]
  },
  {
   "cell_type": "code",
   "execution_count": 226,
   "id": "eb679bf8",
   "metadata": {},
   "outputs": [
    {
     "name": "stdout",
     "output_type": "stream",
     "text": [
      "Median population: 1195.0\n"
     ]
    }
   ],
   "source": [
    "# Calculate the median for the 'population' variable\n",
    "median_population = df['population'].median()\n",
    "\n",
    "print(\"Median population:\", median_population)"
   ]
  },
  {
   "cell_type": "markdown",
   "id": "7a726b93",
   "metadata": {},
   "source": [
    "#### Prepare and split the dataset\n",
    "* Shuffle the initial dataset, use seed 42.\n",
    "* Split your data in train/val/test sets, with 60%/20%/20% distribution.\n",
    "* Apply the log transformation to the median_house_value variable using the np.log1p() function."
   ]
  },
  {
   "cell_type": "markdown",
   "id": "94b20e6b",
   "metadata": {},
   "source": [
    "# Prepare and split the dataset "
   ]
  },
  {
   "cell_type": "code",
   "execution_count": 227,
   "id": "938847e1",
   "metadata": {},
   "outputs": [
    {
     "name": "stdout",
     "output_type": "stream",
     "text": [
      "length of training set = 9413\n",
      "length of validation set = 3137\n",
      "length of test set = 3137\n"
     ]
    }
   ],
   "source": [
    "# Shuffle the data:\n",
    "\n",
    "np.random.seed(2)\n",
    "\n",
    "n = len(df)\n",
    "\n",
    "n_val = int(0.2 * n)\n",
    "n_test = int(0.2 * n)\n",
    "n_train = n - (n_val + n_test)\n",
    "\n",
    "idx = np.arange(n)\n",
    "np.random.shuffle(idx)\n",
    "\n",
    "df_shuffled = df.iloc[idx]\n",
    "\n",
    "# Data split\n",
    "df_train = df_shuffled.iloc[:n_train].copy()\n",
    "df_val = df_shuffled.iloc[n_train:n_train+n_val].copy()\n",
    "df_test = df_shuffled.iloc[n_train+n_val:].copy()\n",
    "\n",
    "print(f\"length of training set = {len(df_train)}\")\n",
    "print(f\"length of validation set = {len(df_val)}\")\n",
    "print(f\"length of test set = {len(df_test)}\")\n",
    "\n",
    "df_train = df_train.reset_index(drop=True)\n",
    "df_val = df_val.reset_index(drop=True)\n",
    "df_test = df_test.reset_index(drop=True)"
   ]
  },
  {
   "cell_type": "code",
   "execution_count": 228,
   "id": "9a599b45",
   "metadata": {},
   "outputs": [],
   "source": [
    "\n",
    "# Applying a logarithmic transformation to the median_house_value variable using the function np.log1p()\n",
    "y_train_orig = df_train.median_house_value.values\n",
    "y_val_orig = df_val.median_house_value.values\n",
    "y_test_orig = df_test.median_house_value.values\n",
    "\n",
    "y_train = np.log1p(y_train_orig)\n",
    "y_val = np.log1p(y_val_orig)\n",
    "y_test = np.log1p(y_test_orig)\n",
    "\n",
    "del df_train['median_house_value']\n",
    "del df_val['median_house_value']\n",
    "del df_test['median_house_value']"
   ]
  },
  {
   "cell_type": "markdown",
   "id": "5e6acb1c",
   "metadata": {},
   "source": [
    "### Question 3\n",
    "\n",
    "* We need to deal with missing values for the column from Q1.\n",
    "* We have two options: fill it with 0 or with the mean of this variable.\n",
    "* Try both options. For each, train a linear regression model without regularization using the code from the lessons.\n",
    "* For computing the mean, use the training only!\n",
    "* Use the validation dataset to evaluate the models and compare the RMSE of each option.\n",
    "* Round the RMSE scores to 2 decimal digits using round(score, 2)\n",
    "* Which option gives better RMSE?"
   ]
  },
  {
   "cell_type": "code",
   "execution_count": 229,
   "id": "1ed7cddf",
   "metadata": {},
   "outputs": [],
   "source": [
    "def prepare_X_null(df):\n",
    "    #  function to prepare dataset with 0\n",
    "    df = df.copy()\n",
    "    df = df.fillna(0)\n",
    "    X = df.values\n",
    "    return X\n",
    "\n",
    "\n",
    "def prepare_X_mean(df):\n",
    "    # function to prepare dataset with mean\n",
    "    df = df.copy()\n",
    "    mean = df.total_bedrooms.mean()\n",
    "    df.total_bedrooms = df.total_bedrooms.fillna(mean)\n",
    "    X = df.values\n",
    "    return X\n"
   ]
  },
  {
   "cell_type": "code",
   "execution_count": 230,
   "id": "6e4af9de",
   "metadata": {},
   "outputs": [],
   "source": [
    "def train_linear_regression(X, y):\n",
    "    # function to train the Linear Regression model\n",
    "    ones = np.ones(X.shape[0])\n",
    "    X = np.column_stack([ones, X])\n",
    "\n",
    "    XTX = X.T.dot(X)\n",
    "    XTX_inv = np.linalg.inv(XTX)\n",
    "\n",
    "    w_full = XTX_inv.dot(X.T).dot(y)\n",
    "    w0 = w_full[0]\n",
    "    w = w_full[1:]\n",
    "\n",
    "    return w0, w\n",
    "     "
   ]
  },
  {
   "cell_type": "code",
   "execution_count": 231,
   "id": "242816ce",
   "metadata": {},
   "outputs": [
    {
     "name": "stdout",
     "output_type": "stream",
     "text": [
      "RMSE score for option_null = 0.34\n",
      "RMSE score for option_mean = 0.34\n"
     ]
    }
   ],
   "source": [
    "\n",
    "def rmse(y, y_pred):\n",
    "    # function calculated RMSE\n",
    "    error = y_pred - y\n",
    "    mse = (error ** 2).mean()\n",
    "    return np.sqrt(mse)\n",
    "\n",
    "# for options with 0\n",
    "X_null_train = prepare_X_null(df_train)\n",
    "w_0_null, w_null = train_linear_regression(X_null_train, y_train)\n",
    "\n",
    "X_null_val = prepare_X_null(df_val)\n",
    "y_null_pred_val = w_0_null + X_null_val.dot(w_null)\n",
    "\n",
    "rmse_option_null = np.round(rmse(y_val, y_null_pred_val),2)\n",
    "\n",
    "# for options with mean\n",
    "\n",
    "X_mean_train = prepare_X_mean(df_train)\n",
    "w_0_mean, w_mean = train_linear_regression(X_mean_train, y_train)\n",
    "\n",
    "X_mean_val = prepare_X_mean(df_val)\n",
    "y_mean_pred_val = w_0_mean + X_mean_val.dot(w_mean)\n",
    "\n",
    "rmse_option_mean = np.round(rmse(y_val, y_mean_pred_val),2)\n",
    "\n",
    "print(f\"RMSE score for option_null = {rmse_option_null}\")\n",
    "print(f\"RMSE score for option_mean = {rmse_option_mean}\")"
   ]
  },
  {
   "cell_type": "markdown",
   "id": "0e8c1f5e",
   "metadata": {},
   "source": [
    "#### Question 4\n",
    "\n",
    "* Now let's train a regularized linear regression.\n",
    "* For this question, fill the NAs with 0.\n",
    "* Try different values of r from this list: [0, 0.000001, 0.0001, 0.001, 0.01, 0.1, 1, 5, 10].\n",
    "* Use RMSE to evaluate the model on the validation dataset.\n",
    "* Round the RMSE scores to 2 decimal digits.\n",
    "* Which r gives the best RMSE?"
   ]
  },
  {
   "cell_type": "markdown",
   "id": "542ed76b",
   "metadata": {},
   "source": [
    "####  Regularization"
   ]
  },
  {
   "cell_type": "code",
   "execution_count": 232,
   "id": "bb6ac9be",
   "metadata": {},
   "outputs": [
    {
     "name": "stdout",
     "output_type": "stream",
     "text": [
      "0 -9.911560200953081 0.34\n",
      "1e-06 -9.91153901809232 0.34\n",
      "0.0001 -9.90944232543431 0.34\n",
      "0.001 -9.890422083698535 0.34\n",
      "0.01 -9.704158716991548 0.34\n",
      "0.1 -8.166154156644339 0.34\n",
      "1 -3.157962064133274 0.34\n",
      "5 -0.8456721103868061 0.35\n",
      "10 -0.4403286588926627 0.35\n"
     ]
    }
   ],
   "source": [
    "def train_linear_regression_reg(X, y, r=0):\n",
    "    # function for Linear Regression model training with Regularization\n",
    "    ones = np.ones(X.shape[0])\n",
    "    X = np.column_stack([ones, X])\n",
    "\n",
    "    XTX = X.T.dot(X)\n",
    "    reg = r * np.eye(XTX.shape[0])\n",
    "    XTX = XTX + reg\n",
    "\n",
    "    XTX_inv = np.linalg.inv(XTX)\n",
    "\n",
    "    w_full = XTX_inv.dot(X.T).dot(y)\n",
    "\n",
    "    w0 = w_full[0]\n",
    "    w = w_full[1:]\n",
    "\n",
    "    return w0, w\n",
    "\n",
    "\n",
    "r_list = [0, 0.000001, 0.0001, 0.001, 0.01, 0.1, 1, 5, 10]\n",
    "\n",
    "\n",
    "x_train = prepare_X_null(df_train)\n",
    "x_val = prepare_X_null(df_val)\n",
    "\n",
    "for r in r_list:\n",
    "    w0, w = train_linear_regression_reg(X_null_train, y_train, r=r)\n",
    "    y_null_reg_val = w0 + X_null_val.dot(w)\n",
    "    rmse_val = np.round(rmse(y_val, y_null_reg_val),2)\n",
    "    print(r, w0, rmse_val)\n"
   ]
  },
  {
   "cell_type": "markdown",
   "id": "ee685a39",
   "metadata": {},
   "source": [
    "### Question 5\n",
    "\n",
    "* We used seed 42 for splitting the data. Let's find out how selecting the seed influences our score.\n",
    "* Try different seed values: [0, 1, 2, 3, 4, 5, 6, 7, 8, 9].\n",
    "* For each seed, do the train/validation/test split with 60%/20%/20% distribution.\n",
    "* Fill the missing values with 0 and train a model without regularization.\n",
    "* For each seed, evaluate the model on the validation dataset and collect the RMSE scores.\n",
    "* What's the standard deviation of all the scores? To compute the standard deviation, use np.std.\n",
    "* Round the result to 3 decimal digits (round(std, 3))"
   ]
  },
  {
   "cell_type": "code",
   "execution_count": 233,
   "id": "8ea1eed6",
   "metadata": {},
   "outputs": [
    {
     "name": "stdout",
     "output_type": "stream",
     "text": [
      "Seed=0, RMSE=0.34\n",
      "Seed=1, RMSE=0.33\n",
      "Seed=2, RMSE=0.35\n",
      "Seed=3, RMSE=0.33\n",
      "Seed=4, RMSE=0.34\n",
      "Seed=5, RMSE=0.34\n",
      "Seed=6, RMSE=0.34\n",
      "Seed=7, RMSE=0.34\n",
      "Seed=8, RMSE=0.35\n",
      "Seed=9, RMSE=0.34\n",
      "The minimum standard deviation of RMSE is 0.006\n"
     ]
    }
   ],
   "source": [
    "# List of seed values\n",
    "seed_values = [0, 1, 2, 3, 4, 5, 6, 7, 8, 9]\n",
    "\n",
    "# Initialize an empty list to store RMSE scores\n",
    "rmse_scores = []\n",
    "\n",
    "# Iterate through different seed values\n",
    "for seed in seed_values:\n",
    "    # Shuffle the dataset with seed 42\n",
    "    shuffled_df = df.sample(frac=1, random_state=seed)\n",
    "\n",
    "    # Split the dataset into train (60%), validation (20%), and test (20%) sets\n",
    "    train_size = 0.6\n",
    "    val_size = 0.2\n",
    "    test_size = 0.2\n",
    "\n",
    "    train_df, temp_df = train_test_split(shuffled_df, train_size=train_size, random_state=42)\n",
    "    val_df, test_df = train_test_split(temp_df, test_size=val_size/(val_size + test_size), random_state=42)\n",
    "\n",
    "    # Fill missing values with 0\n",
    "    train_df_fill_zero = train_df.fillna(0)\n",
    "    val_df_fill_zero = val_df.fillna(0)\n",
    "\n",
    "    # Preprocess the data\n",
    "    train_X, train_y = preprocess_data(train_df_fill_zero)\n",
    "    val_X, val_y = preprocess_data(val_df_fill_zero)\n",
    "\n",
    "    rmse = train_and_evaluate(train_X, train_y, val_X, val_y)\n",
    "\n",
    "    # Append the RMSE score to the list\n",
    "    rmse_scores.append(rmse)\n",
    "    \n",
    "    # Print r, w_0, and RMSE for the current seed\n",
    "    print(f\"Seed={seed}, RMSE={rmse}\")\n",
    "\n",
    "# Find the minimum standard deviation of RMSE\n",
    "std_rmse = np.round(np.std(rmse_scores), 3)\n",
    "\n",
    "# Print the minimum standard deviation\n",
    "print(f\"The minimum standard deviation of RMSE is {std_rmse}\")"
   ]
  },
  {
   "cell_type": "markdown",
   "id": "e0b93c56",
   "metadata": {},
   "source": [
    "#### Question 6\n",
    "\n",
    "* Split the dataset like previously, use seed 9.\n",
    "* Combine train and validation datasets.\n",
    "* Fill the missing values with 0 and train a model with r=0.001.\n",
    "* What's the RMSE on the test dataset?"
   ]
  },
  {
   "cell_type": "code",
   "execution_count": null,
   "id": "af009283",
   "metadata": {},
   "outputs": [],
   "source": []
  }
 ],
 "metadata": {
  "kernelspec": {
   "display_name": "Python 3 (ipykernel)",
   "language": "python",
   "name": "python3"
  },
  "language_info": {
   "codemirror_mode": {
    "name": "ipython",
    "version": 3
   },
   "file_extension": ".py",
   "mimetype": "text/x-python",
   "name": "python",
   "nbconvert_exporter": "python",
   "pygments_lexer": "ipython3",
   "version": "3.11.5"
  }
 },
 "nbformat": 4,
 "nbformat_minor": 5
}
